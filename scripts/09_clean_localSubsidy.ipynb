{
 "cells": [
  {
   "cell_type": "markdown",
   "id": "b6a350eb-f261-4b9c-809d-ae3c6f64d377",
   "metadata": {
    "tags": []
   },
   "source": [
    "# Clean Local Subsidy Data – Gemeente Zwolle\n",
    "\n",
    "This script cleans local subsidy data for the municipality of Zwolle. The data includes details on home insulation subsidies and measures taken by residents. The script filters and processes this data to prepare it for analysis or reporting.\n",
    "\n",
    "## About the Raw Data:\n",
    "\n",
    "The subsidy data was sourced as a CSV file. Upon inspection, the file includes information about various insulation measures applied in residential areas of Zwolle. The following columns are present in the dataset:\n",
    "\n",
    "- Postal code\n",
    "- Place\n",
    "- Bad isolated parts of the house\n",
    "- Date\n",
    "- Amount of money\n",
    "- Measures\n",
    "- Do-it-yourself?\n",
    "- Ventilation measure?\n",
    "- buurt-naam\n",
    "- Disctrict CBS\n",
    "\n",
    "\n",
    "\n",
    "## Processing and Output:\n",
    "\n",
    "The file was saved as a CSV and used in the script below. The final output is generates a CSV file.\n",
    "## Before Running:\n",
    "\n",
    "1. Update directories and file names as necessary under the CONFIGURATION section of the script.\n"
   ]
  },
  {
   "cell_type": "code",
   "execution_count": 1,
   "id": "1409e911-07d7-4628-8dad-67c6b4c6f2f7",
   "metadata": {},
   "outputs": [
    {
     "name": "stdout",
     "output_type": "stream",
     "text": [
      "✅ Total rows after full cleaning and validation: 237\n",
      "📁 Cleaned file saved to: ../clean_data/Local_subsidies_clean.csv\n"
     ]
    },
    {
     "name": "stderr",
     "output_type": "stream",
     "text": [
      "C:\\Users\\kemun\\AppData\\Local\\Temp\\ipykernel_25868\\3925576756.py:27: FutureWarning: DataFrame.applymap has been deprecated. Use DataFrame.map instead.\n",
      "  return df.applymap(lambda x: x.strip() if isinstance(x, str) else x)\n"
     ]
    }
   ],
   "source": [
    "import pandas as pd\n",
    "import os\n",
    "\n",
    "# -------------------------------\n",
    "# CONFIGURATION\n",
    "# -------------------------------\n",
    "RAW_DATA_DIR = \"../raw_data/\"\n",
    "OUTPUT_DIR = \"../clean_data/\"\n",
    "os.makedirs(OUTPUT_DIR, exist_ok=True)\n",
    "\n",
    "input_file = os.path.join(RAW_DATA_DIR, \"Local_Subsidies gemeente Zwolle .csv\")\n",
    "output_file = os.path.join(OUTPUT_DIR, \"Local_subsidies_clean.csv\")\n",
    "\n",
    "# -------------------------------\n",
    "# FUNCTIONS\n",
    "# -------------------------------\n",
    "def clean_column_names(df):\n",
    "    df.columns = (\n",
    "        df.columns.str.strip()\n",
    "        .str.lower()\n",
    "        .str.replace(\" \", \"_\", regex=False)\n",
    "        .str.replace(\".\", \"_\", regex=False)\n",
    "    )\n",
    "    return df\n",
    "\n",
    "def strip_whitespace(df):\n",
    "    return df.applymap(lambda x: x.strip() if isinstance(x, str) else x)\n",
    "\n",
    "def clean_data(df):\n",
    "    df = clean_column_names(df)\n",
    "    df = strip_whitespace(df)\n",
    "    df = df.dropna(how='all')  # Drop entirely empty rows\n",
    "    df = df.drop_duplicates()\n",
    "    return df\n",
    "\n",
    "def validate_and_clean_columns(df):\n",
    "    # amount_of_money: convert to float\n",
    "    if 'amount_of_money' in df.columns:\n",
    "        df['amount_of_money'] = (\n",
    "            df['amount_of_money']\n",
    "            .replace(\",\", \".\", regex=True)\n",
    "            .astype(float)\n",
    "        )\n",
    "\n",
    "    # date: convert to datetime\n",
    "    if 'date' in df.columns:\n",
    "        df['date'] = pd.to_datetime(df['date'], dayfirst=True, errors='coerce')\n",
    "        df = df[df['date'].notna()]\n",
    "\n",
    "    # normalize do-it-yourself and ventilation columns to lowercase yes/no\n",
    "    for col in ['do-it-yourself?', 'ventilation_measure?']:\n",
    "        if col in df.columns:\n",
    "            df[col] = df[col].str.strip().str.lower()\n",
    "\n",
    "    return df\n",
    "\n",
    "# -------------------------------\n",
    "# PROCESSING\n",
    "# -------------------------------\n",
    "df = pd.read_csv(input_file, sep=\",\")\n",
    "df = clean_data(df)\n",
    "df = validate_and_clean_columns(df)\n",
    "\n",
    "# -------------------------------\n",
    "# SUMMARY\n",
    "# -------------------------------\n",
    "print(f\"✅ Total rows after full cleaning and validation: {len(df)}\")\n",
    "\n",
    "# -------------------------------\n",
    "# SAVE OUTPUT\n",
    "# -------------------------------\n",
    "df.to_csv(output_file, index=False)\n",
    "print(f\"📁 Cleaned file saved to: {output_file}\")\n"
   ]
  },
  {
   "cell_type": "markdown",
   "id": "aca75f0e-c552-4088-99fc-17634cd23014",
   "metadata": {},
   "source": [
    "## Minimize Local Subsidy Data – Gemeente Zwolle\n",
    "\n",
    "The following code saves a minimized CSV file with the following columns:\n",
    "- postal_code\n",
    "- place\n",
    "- date\n",
    "- amount_of_money\n",
    "- measures\n",
    "- do-it-yourself?\n",
    "- ventilation_measure?\n",
    "- buurt-naam\n",
    "- disctrict_cbs\n",
    "\n",
    "## Before running:\n",
    "1. Ensure the correct file name and path are specified under CONFIGURATION.\n",
    "2. Confirm the selected columns are present in your input CSV.\n"
   ]
  },
  {
   "cell_type": "code",
   "execution_count": 2,
   "id": "896fc1d6-3f4f-42a2-a212-bd4b8974bfdd",
   "metadata": {},
   "outputs": [
    {
     "name": "stdout",
     "output_type": "stream",
     "text": [
      "✅ Full dataset saved to minimized folder:\n",
      "📁 ../minimized_data/local_subsidies_minimized.csv\n"
     ]
    }
   ],
   "source": [
    "import pandas as pd\n",
    "import os\n",
    "\n",
    "# -------------------------------\n",
    "# CONFIGURATION\n",
    "# -------------------------------\n",
    "CLEANED_FILE = \"../clean_data/Local_subsidies_clean.csv\"\n",
    "MINIMIZED_DIR = \"../minimized_data/\"\n",
    "OUTPUT_FILENAME = \"local_subsidies_minimized.csv\"\n",
    "\n",
    "# Create output directory if it doesn't exist\n",
    "os.makedirs(MINIMIZED_DIR, exist_ok=True)\n",
    "\n",
    "# -------------------------------\n",
    "# LOAD DATA\n",
    "# -------------------------------\n",
    "df = pd.read_csv(CLEANED_FILE)\n",
    "\n",
    "# No filtering – keep all columns\n",
    "df_minimized = df.copy()\n",
    "\n",
    "# -------------------------------\n",
    "# SAVE OUTPUT\n",
    "# -------------------------------\n",
    "df_minimized.to_csv(os.path.join(MINIMIZED_DIR, OUTPUT_FILENAME), index=False)\n",
    "\n",
    "print(f\"✅ Full dataset saved to minimized folder:\\n📁 {os.path.join(MINIMIZED_DIR, OUTPUT_FILENAME)}\")\n",
    "\n"
   ]
  }
 ],
 "metadata": {
  "kernelspec": {
   "display_name": "Python 3",
   "language": "python",
   "name": "python3"
  },
  "language_info": {
   "codemirror_mode": {
    "name": "ipython",
    "version": 3
   },
   "file_extension": ".py",
   "mimetype": "text/x-python",
   "name": "python",
   "nbconvert_exporter": "python",
   "pygments_lexer": "ipython3",
   "version": "3.12.3"
  }
 },
 "nbformat": 4,
 "nbformat_minor": 5
}
