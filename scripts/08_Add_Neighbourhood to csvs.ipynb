{
 "cells": [
  {
   "cell_type": "code",
   "execution_count": 2,
   "metadata": {},
   "outputs": [
    {
     "name": "stdout",
     "output_type": "stream",
     "text": [
      "✅ Saved: ../aggregated_data/coachgesprekken_with_neighbourhood.csv\n",
      "✅ Saved: ../aggregated_data/sde_minimized_with_neighbourhood.csv\n",
      "✅ Saved: ../aggregated_data/isde_minimized_with_neighbourhood.csv\n",
      "✅ Saved: ../aggregated_data/sce_minimized_with_neighbourhood.csv\n"
     ]
    }
   ],
   "source": [
    "import os\n",
    "import pandas as pd\n",
    "import geopandas as gpd\n",
    "from shapely.geometry import Point\n",
    "\n",
    "# --- Directory setup ---\n",
    "RAW_DATA_DIR = \"../raw_data/\"\n",
    "GEOCODED_DATA_DIR = \"../geocoded_data/\"\n",
    "OUTPUT_DIR = \"../aggregated_data/\"\n",
    "os.makedirs(OUTPUT_DIR, exist_ok=True)\n",
    "\n",
    "# --- Load neighbourhood shapefile ---\n",
    "neighbourhoods = gpd.read_file(os.path.join(RAW_DATA_DIR, \"Buurtgrenzen_Zwolle.shp\"))\n",
    "\n",
    "# --- Function to join with neighbourhoods ---\n",
    "def add_neighbourhood(input_filename, output_filename, lat_col='latitude', lon_col='longitude'):\n",
    "    input_path = os.path.join(GEOCODED_DATA_DIR, input_filename)\n",
    "    output_path = os.path.join(OUTPUT_DIR, output_filename)\n",
    "\n",
    "    # Load CSV and convert to GeoDataFrame in EPSG:4326\n",
    "    df = pd.read_csv(input_path)\n",
    "    gdf = gpd.GeoDataFrame(\n",
    "        df,\n",
    "        geometry=[Point(xy) for xy in zip(df[lon_col], df[lat_col])],\n",
    "        crs=\"EPSG:4326\"  # GPS coords\n",
    "    )\n",
    "\n",
    "    # Reproject to match shapefile CRS (e.g. EPSG:28992)\n",
    "    gdf = gdf.to_crs(neighbourhoods.crs)\n",
    "\n",
    "    # Spatial join\n",
    "    gdf_joined = gpd.sjoin(gdf, neighbourhoods, how=\"left\", predicate=\"within\")\n",
    "\n",
    "    # Use 'officiele' field and rename to 'buurt_naam'\n",
    "    gdf_joined[\"buurt_naam\"] = gdf_joined.get(\"OFFICIËLE\", None)\n",
    "\n",
    "\n",
    "    # Save result\n",
    "    gdf_joined.drop(columns=\"geometry\").to_csv(output_path, index=False)\n",
    "    print(f\"✅ Saved: {output_path}\")\n",
    "\n",
    "# --- Run the function on your geocoded files ---\n",
    "add_neighbourhood(\"coachgesprekken_geocoded.csv\", \"coachgesprekken_with_neighbourhood.csv\")\n",
    "add_neighbourhood(\"sde_minimized_geocoded.csv\", \"sde_minimized_with_neighbourhood.csv\")\n",
    "add_neighbourhood(\"isde_subsidies_geocoded.csv\", \"isde_minimized_with_neighbourhood.csv\")\n",
    "add_neighbourhood(\"sce_minimized_geocoded.csv\", \"sce_minimized_with_neighbourhood.csv\")\n"
   ]
  }
 ],
 "metadata": {
  "kernelspec": {
   "display_name": "Python 3",
   "language": "python",
   "name": "python3"
  },
  "language_info": {
   "codemirror_mode": {
    "name": "ipython",
    "version": 3
   },
   "file_extension": ".py",
   "mimetype": "text/x-python",
   "name": "python",
   "nbconvert_exporter": "python",
   "pygments_lexer": "ipython3",
   "version": "3.12.3"
  }
 },
 "nbformat": 4,
 "nbformat_minor": 2
}
